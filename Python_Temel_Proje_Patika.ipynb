{
 "cells": [
  {
   "cell_type": "markdown",
   "id": "8276d601",
   "metadata": {},
   "source": [
    "# Proje 1\n",
    "## Konu: \n",
    "### Elemanları integer string ve listlerden oluşan bir listeyi düzleştiren yani listlerden oluşan elemanlarımızı string ve integer cinsinden üst listeye ekleyen bir fonksiyon yazalım"
   ]
  },
  {
   "cell_type": "code",
   "execution_count": 8,
   "id": "3f3fb84d",
   "metadata": {},
   "outputs": [],
   "source": [
    "  y=[]\n",
    "    def flat(l):\n",
    "        for i in l:\n",
    "            if type(i)!= list:\n",
    "                y.append(i)\n",
    "            else:\n",
    "                flat(i)\n",
    "        return y \n",
    "            \n",
    "    "
   ]
  },
  {
   "cell_type": "code",
   "execution_count": 45,
   "id": "57e46ed1",
   "metadata": {},
   "outputs": [
    {
     "data": {
      "text/plain": [
       "[1, 'a', 'cat', 2, 3, 'dog', 4, 5, 1, 'a', 'cat', 2, 3, 'dog', 4, 5]"
      ]
     },
     "execution_count": 45,
     "metadata": {},
     "output_type": "execute_result"
    }
   ],
   "source": [
    "a=[[1,'a',['cat'],2],[[[3]],'dog'],4,5] #Örnek ele alalım\n",
    "flat(a)"
   ]
  },
  {
   "cell_type": "markdown",
   "id": "7be4cc88",
   "metadata": {},
   "source": [
    "# Proje 2\n",
    "## Konu: \n",
    "### Elemanları da listelerden oluşan bir liste düşünelim ve elemanlarını ve listeyi ters çeviren bir fonksiyon yazalım:"
   ]
  },
  {
   "cell_type": "code",
   "execution_count": 47,
   "id": "47dca3a3",
   "metadata": {},
   "outputs": [],
   "source": [
    "def rev(l):\n",
    "    p = []\n",
    "    for i in l:\n",
    "        p.append(list(reversed(i)))\n",
    "    return print(list(reversed(p)))"
   ]
  },
  {
   "cell_type": "code",
   "execution_count": 48,
   "id": "ac2deede",
   "metadata": {},
   "outputs": [
    {
     "name": "stdout",
     "output_type": "stream",
     "text": [
      "[[7, 6, 5], [4, 3], [2, 1]]\n"
     ]
    }
   ],
   "source": [
    "b=[[1, 2], [3, 4], [5, 6, 7]]#Örnek ele alalım\n",
    "rev(b)"
   ]
  },
  {
   "cell_type": "code",
   "execution_count": null,
   "id": "23e57cd7",
   "metadata": {},
   "outputs": [],
   "source": [
    "      \n",
    "        "
   ]
  },
  {
   "cell_type": "code",
   "execution_count": null,
   "id": "11d786c7",
   "metadata": {},
   "outputs": [],
   "source": []
  },
  {
   "cell_type": "code",
   "execution_count": null,
   "id": "d54b9376",
   "metadata": {},
   "outputs": [],
   "source": []
  }
 ],
 "metadata": {
  "kernelspec": {
   "display_name": "Python 3 (ipykernel)",
   "language": "python",
   "name": "python3"
  },
  "language_info": {
   "codemirror_mode": {
    "name": "ipython",
    "version": 3
   },
   "file_extension": ".py",
   "mimetype": "text/x-python",
   "name": "python",
   "nbconvert_exporter": "python",
   "pygments_lexer": "ipython3",
   "version": "3.9.12"
  }
 },
 "nbformat": 4,
 "nbformat_minor": 5
}
